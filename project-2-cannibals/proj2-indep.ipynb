{
 "cells": [
  {
   "cell_type": "markdown",
   "metadata": {},
   "source": [
    "# Project2: Missionary and Cannibals\n",
    "## Portfolio idea:\n",
    "Trying to implement state space search on [Frozen Lake Envrionment](https://gym.openai.com/envs/FrozenLake-v0/).\n",
    "\n",
    "### Set Up\n",
    "\n",
    "The following are the classes that support this experiment:\n",
    "\n",
    "- **[frozenLake](http://localhost:8888/edit/project-2-cannibals/frozenLake.py)**: Inherits from ProblemState that represent a state in FrozenLake\n",
    "- **[improvedSearch](http://localhost:8888/edit/project-2-cannibals/improvedSearch.py)**: Improved state space search that finds the path from the given initial state to the goal state.\n",
    "- **[gym](https://gym.openai.com/)**: The OpenAI gym, which is the toolkit for developing and comparing reinforcement learning algorithms. "
   ]
  },
  {
   "cell_type": "code",
   "execution_count": 2,
   "metadata": {},
   "outputs": [],
   "source": [
    "import frozenLake as fl\n",
    "import gym\n",
    "from improvedSearch import *\n",
    "from gym.envs.classic_control import rendering"
   ]
  },
  {
   "cell_type": "markdown",
   "metadata": {},
   "source": [
    "### Result\n",
    "Now we can initialize the environment and test the state space search on FrozenLake environment:"
   ]
  },
  {
   "cell_type": "code",
   "execution_count": 3,
   "metadata": {},
   "outputs": [
    {
     "name": "stdout",
     "output_type": "stream",
     "text": [
      "Number nodes expaned:  12\n",
      "Initial: reach 0\n",
      "\n",
      "By go down: reach 4\n",
      "\n",
      "By go down: reach 8\n",
      "\n",
      "By go right: reach 9\n",
      "\n",
      "By go down: reach 13\n",
      "\n",
      "By go right: reach 14\n",
      "\n",
      "By go right: reach 15\n",
      "\n",
      "Goal reached in 6 steps\n"
     ]
    },
    {
     "data": {
      "text/plain": [
       "<improvedSearch.Search at 0x7f610a29f278>"
      ]
     },
     "execution_count": 3,
     "metadata": {},
     "output_type": "execute_result"
    }
   ],
   "source": [
    "frozenLake = gym.make(\"FrozenLake-v0\", is_slippery = False)\n",
    "frozenLake.reset()\n",
    "Search(fl.FrozenLakeState(frozenLake, 0, 0), fl.FrozenLakeState(frozenLake, 15, 1))"
   ]
  },
  {
   "cell_type": "markdown",
   "metadata": {},
   "source": [
    "It turns out that state space search works on the FrozenLake-V0 environment. The seach can find the answer from the initial state to the goal state in 6 steps with total node expansion 12."
   ]
  },
  {
   "cell_type": "markdown",
   "metadata": {},
   "source": [
    "### Challenges\n",
    "- We should generate the next day on a clone version of the Frozen Lake environment. However, there is no built-in clone() method in OpenAI gym.\n",
    "- **cloneEnv()**: we can clone a FrozenLake environment by creating a new FrozenLake object and stepping to the current state.\n",
    "- During the seach, we should avoid the holes because when the program falls into a hole, the seach will be terminated because the environment counts falling into a hole as failed."
   ]
  }
 ],
 "metadata": {
  "kernelspec": {
   "display_name": "Python 3",
   "language": "python",
   "name": "python3"
  },
  "language_info": {
   "codemirror_mode": {
    "name": "ipython",
    "version": 3
   },
   "file_extension": ".py",
   "mimetype": "text/x-python",
   "name": "python",
   "nbconvert_exporter": "python",
   "pygments_lexer": "ipython3",
   "version": "3.5.2"
  }
 },
 "nbformat": 4,
 "nbformat_minor": 2
}
