{
 "cells": [
  {
   "cell_type": "markdown",
   "metadata": {},
   "source": [
    "# Project3: A* and 8-puzzles\n",
    "## Portfolio idea:\n",
    "Use A* on a version of frozen lake from AI Gym.\n",
    "\n",
    "### Set Up\n",
    "\n",
    "The following are the classes that support this experiment:\n",
    "\n",
    "- **[frozenLake](http://localhost:8888/edit/project-3-astar/frozenLake.py)**: Inherits from InformedProblemState that represents a state in FrozenLake.\n",
    "- **[informedSearch](http://localhost:8888/edit/project-3-astar/informedSearch.py)**: A a-star Search class that can be used for any problem domain.\n",
    "- **[gym](https://gym.openai.com/)**: The OpenAI gym, which is the toolkit for developing and comparing reinforcement learning algorithms. "
   ]
  },
  {
   "cell_type": "code",
   "execution_count": 5,
   "metadata": {},
   "outputs": [],
   "source": [
    "from informedSearch import *\n",
    "import gym\n",
    "import frozenLake as fl\n",
    "from gym.envs.classic_control import rendering"
   ]
  },
  {
   "cell_type": "markdown",
   "metadata": {},
   "source": [
    "### Result\n",
    "Now, we can define the initial state and goal state, and do the informed search (a-star) to find the path between the initial state and end state."
   ]
  },
  {
   "cell_type": "code",
   "execution_count": 6,
   "metadata": {},
   "outputs": [
    {
     "name": "stdout",
     "output_type": "stream",
     "text": [
      "Total Nodes Expanded:  12\n",
      "Initial: reach 0\n",
      "\n",
      "By go down: reach 4\n",
      "\n",
      "By go down: reach 8\n",
      "\n",
      "By go right: reach 9\n",
      "\n",
      "By go right: reach 10\n",
      "\n",
      "By go down: reach 14\n",
      "\n",
      "By go right: reach 15\n",
      "\n",
      "Goal reached in 6 steps\n"
     ]
    },
    {
     "data": {
      "text/plain": [
       "<informedSearch.InformedSearch at 0x7f9798997cf8>"
      ]
     },
     "execution_count": 6,
     "metadata": {},
     "output_type": "execute_result"
    }
   ],
   "source": [
    "frozenLake = gym.make(\"FrozenLake-v0\", is_slippery = False)\n",
    "frozenLake.reset()\n",
    "initialState = fl.FrozenLake(frozenLake, 0, 0)\n",
    "goalState = fl.FrozenLake(frozenLake, 15, 1)\n",
    "InformedSearch(initialState, goalState)"
   ]
  },
  {
   "cell_type": "markdown",
   "metadata": {},
   "source": [
    "As we can see, both the state-space search in [independent project 2](http://localhost:8888/notebooks/project-2-cannibals/proj2-indep.ipynb) and a-star can solve the FrozenLake-v0 in OpenAI gym. Both of them provide the answer that can be reached in 6 steps. \n",
    "In terms of node expansion, state-space seach has the same efficiency with a-star becasue both algorithms found the solution with 12-node expansion."
   ]
  },
  {
   "cell_type": "markdown",
   "metadata": {},
   "source": [
    "### Things can be improved\n",
    "\n",
    "- The current FrozenLake has a fixed map without slippery mode. If time is allowed, we can test both state-space search's and a-star's performance on this more complicated environment.\n",
    "- The current **copyEnv()** function in [frozenLake](http://localhost:8888/edit/project-3-astar/frozenLake.py) class is not reusable in another FrozenLake map or other environments.\n",
    "- The only heuristic implemented is [Manhattan Distance](https://xlinux.nist.gov/dads/HTML/manhattanDistance.html). If time is allowed, we can try more heuristics and test their performances."
   ]
  }
 ],
 "metadata": {
  "kernelspec": {
   "display_name": "Python 3",
   "language": "python",
   "name": "python3"
  },
  "language_info": {
   "codemirror_mode": {
    "name": "ipython",
    "version": 3
   },
   "file_extension": ".py",
   "mimetype": "text/x-python",
   "name": "python",
   "nbconvert_exporter": "python",
   "pygments_lexer": "ipython3",
   "version": "3.5.2"
  }
 },
 "nbformat": 4,
 "nbformat_minor": 2
}
