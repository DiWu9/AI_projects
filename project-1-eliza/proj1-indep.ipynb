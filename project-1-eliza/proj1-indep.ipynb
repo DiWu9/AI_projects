{
 "cells": [
  {
   "cell_type": "markdown",
   "metadata": {},
   "source": [
    "# Project1: Eliza\n",
    "## Portfolio idea:\n",
    "Make my chatbot chat with [ChenChatAgent](http://localhost:8888/edit/project-1-eliza/chenps1.py)."
   ]
  },
  {
   "cell_type": "code",
   "execution_count": null,
   "metadata": {},
   "outputs": [
    {
     "name": "stdout",
     "output_type": "stream",
     "text": [
      "chenps1: How are you today?\n",
      "wups1: Interesting\n",
      "\n",
      "chenps1: I want to get to know you a little more, what is your favorite music genre?\n",
      "wups1: Let's change the subject\n",
      "\n",
      "chenps1: Really?\n",
      "wups1: Sorry, I've to do more research on this.\n",
      "\n",
      "chenps1: I want to get to know you a little more, what do you like to do?\n",
      "wups1: Let's change the subject\n",
      "\n",
      "chenps1: Let's change the subject\n",
      "Do you want to hear a joke?\n",
      "Sure\n",
      "wups1: I ate a clock yesterday, it was very time consuming.\n",
      "\n",
      "chenps1: you ate a clock yesterday, it was very time consuming.\n"
     ]
    }
   ],
   "source": [
    "import random\n",
    "import time\n",
    "import wups1 as wc\n",
    "import chenps1 as cc\n",
    "\n",
    "random.seed() #if given no value, it uses system time\n",
    "agent = wc.ChatAgent()\n",
    "chenAgent = cc.ChenChatAgent()\n",
    "agent.chatWith(chenAgent)"
   ]
  },
  {
   "cell_type": "markdown",
   "metadata": {},
   "source": [
    "## Introduction:\n",
    "In order to initialize a conversation between my chat agent and Chen's chat agent, I add a new function **responseTo(question, name)** in both class. The function prints the current question that begins with the name and returns the answer to the question.\n",
    "**chatWith(chenAgent)** is another new function in my chat agent class that helps maintaing the conversation between my chat agent and Chen's chat agent. It basicly repeatedly calls the **responseTo** function to my agent and Chen's agent alternatively."
   ]
  },
  {
   "cell_type": "markdown",
   "metadata": {},
   "source": [
    "## Analysis:\n",
    "The conversation between two chat agents is difficult to continue because both chat agents askes very specific questions and none of them has the ability to answer those questions. Based on the previous output, we can see that when Chen's chat agent is asking my chat agent about its favorite music genre, my chat agent cannot reply and thus tries to switch to another topic. Similarly, when my chat agent asked Chen Agent's gender, Chen's agent could not answer the question either."
   ]
  },
  {
   "cell_type": "markdown",
   "metadata": {},
   "source": [
    "## Challenges\n",
    "1. Because some functions in my class agent askes for additional inputs in order to get the answer, it is hard to maintain a durable conversation between Chen's chat agent and mines by alternatively calling the **respondTo()** function.\n",
    "2. Enable the chat agent to respond to various questions is also helpful to maintain a durable conversation, which is also challenging to implement."
   ]
  }
 ],
 "metadata": {
  "kernelspec": {
   "display_name": "Python 3",
   "language": "python",
   "name": "python3"
  },
  "language_info": {
   "codemirror_mode": {
    "name": "ipython",
    "version": 3
   },
   "file_extension": ".py",
   "mimetype": "text/x-python",
   "name": "python",
   "nbconvert_exporter": "python",
   "pygments_lexer": "ipython3",
   "version": "3.5.2"
  }
 },
 "nbformat": 4,
 "nbformat_minor": 2
}
