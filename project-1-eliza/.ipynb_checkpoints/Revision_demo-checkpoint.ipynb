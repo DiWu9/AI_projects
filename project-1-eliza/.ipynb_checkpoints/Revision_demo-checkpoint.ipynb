{
 "cells": [
  {
   "cell_type": "markdown",
   "metadata": {},
   "source": [
    "## Simulation\n",
    "Here's the conversation between the chatbot and I. From here, we can see some improvements on repeated questions or jokes."
   ]
  },
  {
   "cell_type": "code",
   "execution_count": null,
   "metadata": {},
   "outputs": [
    {
     "name": "stdout",
     "output_type": "stream",
     "text": [
      "how are you today?\n",
      "I am great\n",
      "What's your gender?\n",
      "male\n",
      "Got it, interesting.\n",
      "how are you\n",
      "When's your birthday?\n",
      "april 10\n",
      "Got it. I'll remember it.\n",
      "What's my gender?\n",
      "Your gender is male\n",
      "When's my birthday?\n",
      "Your birthday is april 10\n",
      "Cool, you remember all of them!\n",
      "Earlier you said that you are great, do you mind to tell me more about it?\n",
      "I had some Chinese food today, which is great!\n",
      "Do you want to hear a joke?\n",
      "Of course.\n",
      "I ate a clock yesterday, it was very time consuming.\n",
      "lol\n",
      "Hi my friend! What's your name?\n",
      "Woody\n",
      "Nice to meet you, Woody\n",
      "What's your name?\n",
      "Woody, my name is W.\n",
      "What's your gender?\n",
      "I'm a male, just like you.\n",
      "When's your birthday?\n"
     ]
    }
   ],
   "source": [
    "import wups1 as w\n",
    "\n",
    "agent = w.ChatAgent()\n",
    "agent.driverLoop()"
   ]
  },
  {
   "cell_type": "markdown",
   "metadata": {},
   "source": [
    "## Comments\n",
    "- The chatbot will not repeat the question that it has already asked.\n",
    "- The chatbot will not repeat the joke that it has already told. If the chatbot is running out of jokes, it will not tell jokes anymore.\n",
    "\n",
    "## Things need to improve\n",
    "- - The chat agent is not good at retrieve keywords from a response. (For example, the chat agent cannot retrieve the word \"male\" from the sentence \"I am a male\")."
   ]
  }
 ],
 "metadata": {
  "kernelspec": {
   "display_name": "Python 3",
   "language": "python",
   "name": "python3"
  },
  "language_info": {
   "codemirror_mode": {
    "name": "ipython",
    "version": 3
   },
   "file_extension": ".py",
   "mimetype": "text/x-python",
   "name": "python",
   "nbconvert_exporter": "python",
   "pygments_lexer": "ipython3",
   "version": "3.5.2"
  }
 },
 "nbformat": 4,
 "nbformat_minor": 2
}
