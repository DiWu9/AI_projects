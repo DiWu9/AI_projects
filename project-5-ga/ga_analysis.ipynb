{
 "cells": [
  {
   "cell_type": "markdown",
   "metadata": {},
   "source": [
    "# Genetic Algorithm Analysis"
   ]
  },
  {
   "cell_type": "markdown",
   "metadata": {},
   "source": [
    "## Introduction\n",
    "\n",
    "The goal of this genetic algorithm project is to replicate the result from Melanie Mitchell's Royal Roads paper. From her experiment, the efficiency of royal road algorithm with and without intermediate schemas was tested, which was finally compared to the efficiency of hill climbing algorithm. For this project, those three algorithms were also tested and compared. The following is search result of royal road and hill climber:\n",
    "\n",
    "## Set Up"
   ]
  },
  {
   "cell_type": "code",
   "execution_count": 5,
   "metadata": {},
   "outputs": [],
   "source": [
    "import geneticAlgorithm as g\n",
    "import hillClimber as h\n",
    "import dataProducer as d"
   ]
  },
  {
   "cell_type": "markdown",
   "metadata": {},
   "source": [
    "## Simulation Result\n",
    "### Royal Road with Intermediate Level\n",
    "#### Sample Result"
   ]
  },
  {
   "cell_type": "code",
   "execution_count": 1,
   "metadata": {},
   "outputs": [
    {
     "name": "stdout",
     "output_type": "stream",
     "text": [
      "Test1 output:\n",
      "580\n",
      "Test2 output:\n",
      "2231\n",
      "Test3 output:\n",
      "348\n",
      "Test4 output:\n",
      "762\n",
      "Test5 output:\n",
      "318\n"
     ]
    }
   ],
   "source": [
    "for i in range(5):\n",
    "    print(\"Test\"+str(i+1)+ \" output:\")\n",
    "    ga = g.GeneticAlgorithm(64, 128, 0.7, 0.005)\n",
    "    ga.start()"
   ]
  },
  {
   "cell_type": "markdown",
   "metadata": {},
   "source": [
    "The program above is a class for the simulation of Royal Road algorithm, the simulation can be initialized with different parameters, which are size of population, length of the chromosome (bitstrings), crossover rate, mutation rate, and whether to have intermediate schemas. The output above shows the number of generations produced by royal road with intermediate schma in order to find the optimal answer, with **population size 128**, **individual size 64**, **crossover rate 0.7**, and **mutation rate 0.005**. The average value of five tests is **847.8**, which is higher than **590**, the average value of normal RR in Melanie Mitchell's Royal Roads paper. However, **590** is the average of 50 runs, and **883.2** is the result of only 5 runs. The range of those runs is surprisingly large, which may mostly influenced by the quality (the fitness value) initial seeds.\n",
    "\n",
    "#### Graph Result\n",
    "![RR with intermediate level](RR_normal.png)"
   ]
  },
  {
   "cell_type": "markdown",
   "metadata": {},
   "source": [
    "#### Analysis\n",
    "According to the graph result of Royal Road with intermediate level, the average fitness of population increases slowly and stablely. The increase of maximum fitness of the population is obvious, but the minimum fitness is never improved."
   ]
  },
  {
   "cell_type": "markdown",
   "metadata": {},
   "source": [
    "### Royal Road without Intermediate Level\n",
    "#### Sample Result"
   ]
  },
  {
   "cell_type": "code",
   "execution_count": 3,
   "metadata": {},
   "outputs": [
    {
     "name": "stdout",
     "output_type": "stream",
     "text": [
      "RR without intermediate schemas\n",
      "Test1 output:\n",
      "1662\n",
      "Test2 output:\n",
      "1507\n",
      "Test3 output:\n",
      "191\n",
      "Test4 output:\n",
      "1146\n",
      "Test5 output:\n",
      "684\n"
     ]
    }
   ],
   "source": [
    "print(\"RR without intermediate schemas\")\n",
    "\n",
    "for i in range(5):\n",
    "    print(\"Test\"+str(i+1)+ \" output:\")\n",
    "    ga = g.GeneticAlgorithm(64, 128, 0.7, 0.005, False)\n",
    "    ga.start()"
   ]
  },
  {
   "cell_type": "markdown",
   "metadata": {},
   "source": [
    "Five tests are runned above with the same parameter values except **no** intermediate schemas this time. The average value of the five generations is **1038**, which is close to 883.2, the test result of RR with intermediate schemas. However, the increasing efficiency of RR without intermediate schemas stated in the paper is not successfully presented in this project.\n",
    "\n",
    "#### Graph Result\n",
    "![RR without intermediate level](RR_no_imed.png)"
   ]
  },
  {
   "cell_type": "markdown",
   "metadata": {},
   "source": [
    "#### Analysis\n",
    "Compared to the result of RR with intermediate level, the result of RR without intermediate level has relatively better average fitness increases than RR with intermediate level because of its increases in minimum fitness. The maximum fitness increases is also rapid. \n",
    "However, considering that the goal of RR is to increase its maximum fitness to be the best fitness, we should evaluate the efficiency of RR algorithm by its efficiency on maximum fitness curve. Even though the average fitness of RR without intermediate level is better than the average fitness of RR with intermediate level, RR with intermediate level is able to find the result quicker (in this experiment) because it has better maximum fitness curve."
   ]
  },
  {
   "cell_type": "markdown",
   "metadata": {},
   "source": [
    "### Hill Climber\n",
    "#### Sample Result"
   ]
  },
  {
   "cell_type": "code",
   "execution_count": 4,
   "metadata": {},
   "outputs": [
    {
     "name": "stdout",
     "output_type": "stream",
     "text": [
      "Hill Climber Tests:\n",
      "Test1 output:\n",
      "1562\n",
      "Test2 output:\n",
      "2779\n",
      "Test3 output:\n",
      "2292\n",
      "Test4 output:\n",
      "1272\n",
      "Test5 output:\n",
      "2246\n"
     ]
    }
   ],
   "source": [
    "print(\"Hill Climber Tests:\")\n",
    "for i in range(5):\n",
    "    print(\"Test\"+str(i+1)+ \" output:\")\n",
    "    hc = h.HillClimber(64, 128, 0.005)\n",
    "    hc.start()"
   ]
  },
  {
   "cell_type": "markdown",
   "metadata": {},
   "source": [
    "The average number of generation produced of 5 hill climbing tests is **2030.2**, which fits the result in Melanie Mitchell's Royal Roads paper. We can observe that range of those values is still large for hill climbing simulation.\n",
    "#### Graph Result\n",
    "![Hill Climber](HillClimber.png)\n",
    "#### Graph Result  (with Haming Distance)\n",
    "![Hill Climber Haming](HC_haming_distance.png)"
   ]
  },
  {
   "cell_type": "markdown",
   "metadata": {},
   "source": [
    "#### Analysis\n",
    "As described in Mitchell's Royal Road paper, Hill Climber algorithm using the same fitness function as RR is slow at finding the best fitness. However, the Hill Climber using [Haming Distance](https://www.sciencedirect.com/topics/engineering/hamming-distance) is more efficient than any RR algorithms."
   ]
  }
 ],
 "metadata": {
  "kernelspec": {
   "display_name": "Python 3",
   "language": "python",
   "name": "python3"
  },
  "language_info": {
   "codemirror_mode": {
    "name": "ipython",
    "version": 3
   },
   "file_extension": ".py",
   "mimetype": "text/x-python",
   "name": "python",
   "nbconvert_exporter": "python",
   "pygments_lexer": "ipython3",
   "version": "3.5.2"
  }
 },
 "nbformat": 4,
 "nbformat_minor": 2
}
